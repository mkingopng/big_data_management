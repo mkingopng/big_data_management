{
 "cells": [
  {
   "cell_type": "code",
   "source": [
    "# not sure how to do this? in SQL or python?\n",
    "# from pyhive import hive\n",
    "\n",
    "# this might be a useful link\n",
    "# https://docs.databricks.com/data/data-sources/hive-tables.html"
   ],
   "metadata": {
    "application/vnd.databricks.v1+cell": {
     "title": "",
     "showTitle": false,
     "inputWidgets": {},
     "nuid": "5739599a-4622-4876-96a4-28e48df5d194"
    },
    "pycharm": {
     "name": "#%%\n"
    }
   },
   "outputs": [],
   "execution_count": 1
  },
  {
   "cell_type": "code",
   "source": [
    "# create HDFS directory\n",
    "# $ hdfs dfs -mkdir -p /user/user"
   ],
   "metadata": {
    "application/vnd.databricks.v1+cell": {
     "title": "",
     "showTitle": false,
     "inputWidgets": {},
     "nuid": "de869de3-e64f-401d-890a-0bf0c9278794"
    },
    "pycharm": {
     "name": "#%%\n"
    }
   },
   "outputs": [],
   "execution_count": 2
  },
  {
   "cell_type": "code",
   "source": [
    "# move txt files to it\n",
    "# $ hdfs dfs -put orders.csv"
   ],
   "metadata": {
    "application/vnd.databricks.v1+cell": {
     "title": "",
     "showTitle": false,
     "inputWidgets": {},
     "nuid": "c9c5ffd1-29dc-494b-9446-aa137e4cc0f6"
    },
    "pycharm": {
     "name": "#%%\n"
    }
   },
   "outputs": [],
   "execution_count": 3
  },
  {
   "cell_type": "code",
   "source": [
    "%sql\n",
    "CREATE TABLE walden (\n",
    "    NewsDate STRING,\n",
    "    Headline STRING\n",
    ")\n",
    "ROW FORMAT DELIMITED\n",
    "FIELDS TERMINATED BY ','\n",
    "LINES TERMINATED BY '\\n'\n",
    "STORED AS TEXTFILE;"
   ],
   "metadata": {
    "application/vnd.databricks.v1+cell": {
     "title": "",
     "showTitle": false,
     "inputWidgets": {},
     "nuid": "5c2ae449-d395-4d8f-818b-9a3fd9c867fe"
    },
    "pycharm": {
     "name": "#%%\n"
    }
   },
   "outputs": [
    {
     "ename": "SyntaxError",
     "evalue": "invalid syntax (1846673447.py, line 2)",
     "output_type": "error",
     "traceback": [
      "\u001B[0;36m  Input \u001B[0;32mIn [4]\u001B[0;36m\u001B[0m\n\u001B[0;31m    CREATE TABLE walden (\u001B[0m\n\u001B[0m           ^\u001B[0m\n\u001B[0;31mSyntaxError\u001B[0m\u001B[0;31m:\u001B[0m invalid syntax\n"
     ]
    }
   ],
   "execution_count": 4
  },
  {
   "cell_type": "code",
   "source": [
    "%sql\n",
    "LOAD DATA LOCAL INPATH 'dbfs:/FileStore/shared_uploads/michaelkennethkingston@gmail.com/walden.txt' OVERWRITE INTO TABLE walden;"
   ],
   "metadata": {
    "application/vnd.databricks.v1+cell": {
     "title": "",
     "showTitle": false,
     "inputWidgets": {},
     "nuid": "daa9674d-09c6-436b-89e4-16f888429762"
    },
    "pycharm": {
     "name": "#%%\n"
    }
   },
   "outputs": [],
   "execution_count": null
  },
  {
   "cell_type": "code",
   "source": [
    "%sql\n",
    "CREATE VIEW year_terms AS SELECT substr(NewsDate, 0, 4) as year, term FROM abcnews LATERAL VIEW EXPLODE\n",
    "(SPLIT(Headline, ' ')) terms AS term;"
   ],
   "metadata": {
    "application/vnd.databricks.v1+cell": {
     "title": "",
     "showTitle": false,
     "inputWidgets": {},
     "nuid": "df75ecf9-c5a1-4adc-b90d-5bfab2e65d76"
    },
    "pycharm": {
     "name": "#%%\n"
    }
   },
   "outputs": [],
   "execution_count": null
  },
  {
   "cell_type": "code",
   "source": [
    "%sql\n",
    "SELECT year,term,count(*) AS num FROM year_terms GROUP BY year,term;"
   ],
   "metadata": {
    "application/vnd.databricks.v1+cell": {
     "title": "",
     "showTitle": false,
     "inputWidgets": {},
     "nuid": "375fa6c1-f32e-4250-8b9d-21f4783523ac"
    },
    "pycharm": {
     "name": "#%%\n"
    }
   },
   "outputs": [],
   "execution_count": null
  },
  {
   "cell_type": "code",
   "source": [
    "%sql\n",
    "CREATE VIEW termcount AS SELECT year,term,count(*) AS num FROM year_terms GROUP BY year,term;"
   ],
   "metadata": {
    "application/vnd.databricks.v1+cell": {
     "title": "",
     "showTitle": false,
     "inputWidgets": {},
     "nuid": "15cf23c6-32b6-459c-8fe4-c9e4465553c9"
    },
    "pycharm": {
     "name": "#%%\n"
    }
   },
   "outputs": [],
   "execution_count": null
  },
  {
   "cell_type": "code",
   "source": [
    "%sql\n",
    "SELECT a.year, a.term FROM (select *, rank() over (ORDER BY year, num DESC, term) FROM termcount) as a;"
   ],
   "metadata": {
    "application/vnd.databricks.v1+cell": {
     "title": "",
     "showTitle": false,
     "inputWidgets": {},
     "nuid": "c35dee45-1fa9-447c-99d1-4b0f84781dcf"
    },
    "pycharm": {
     "name": "#%%\n"
    }
   },
   "outputs": [],
   "execution_count": null
  }
 ],
 "metadata": {
  "application/vnd.databricks.v1+notebook": {
   "notebookName": "6a",
   "dashboards": [],
   "notebookMetadata": {
    "pythonIndentUnit": 4
   },
   "language": "python",
   "widgets": {},
   "notebookOrigID": 2472435191052521
  }
 },
 "nbformat": 4,
 "nbformat_minor": 0
}